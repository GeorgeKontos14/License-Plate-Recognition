{
 "cells": [
  {
   "cell_type": "code",
   "execution_count": 3,
   "metadata": {},
   "outputs": [],
   "source": [
    "import numpy as np\n",
    "import pandas as pd\n",
    "import matplotlib.pyplot as plt\n",
    "import cv2\n",
    "import os\n"
   ]
  },
  {
   "cell_type": "code",
   "execution_count": 4,
   "metadata": {},
   "outputs": [
    {
     "data": {
      "text/plain": [
       "0.26098683166745995"
      ]
     },
     "execution_count": 4,
     "metadata": {},
     "output_type": "execute_result"
    }
   ],
   "source": [
    "dilation = 0\n",
    "\n",
    "path = \"dataset/dilate/Category_I/\"\n",
    "\n",
    "for filename in os.scandir(path):\n",
    "    plate = cv2.imread(filename.path)\n",
    "    plate = cv2.cvtColor(plate, cv2.COLOR_BGR2GRAY)\n",
    "    plate[plate >= 125] = 255\n",
    "    plate[plate < 125] = 0\n",
    "    dilation = max(dilation, np.count_nonzero(plate)/(plate.shape[0]* plate.shape[1]))\n",
    "\n",
    "path = \"dataset/dilate/Category_II\"\n",
    "\n",
    "for filename in os.scandir(path):\n",
    "    plate = cv2.imread(filename.path)\n",
    "    plate = cv2.cvtColor(plate, cv2.COLOR_BGR2GRAY)\n",
    "    plate[plate >= 125] = 255\n",
    "    plate[plate < 125] = 0\n",
    "    dilation = max(dilation, np.count_nonzero(plate)/(plate.shape[0]* plate.shape[1]))\n",
    "\n",
    "dilation"
   ]
  },
  {
   "cell_type": "code",
   "execution_count": 5,
   "metadata": {},
   "outputs": [
    {
     "data": {
      "text/plain": [
       "0.31017964071856285"
      ]
     },
     "execution_count": 5,
     "metadata": {},
     "output_type": "execute_result"
    }
   ],
   "source": [
    "erosion = 1\n",
    "\n",
    "path = \"dataset/erode/Category_I/\"\n",
    "\n",
    "for filename in os.scandir(path):\n",
    "    plate = cv2.imread(filename.path)\n",
    "    plate = cv2.cvtColor(plate, cv2.COLOR_BGR2GRAY)\n",
    "    plate[plate >= 125] = 255\n",
    "    plate[plate < 125] = 0\n",
    "    erosion = min(erosion, np.count_nonzero(plate)/(plate.shape[0]* plate.shape[1]))\n",
    "\n",
    "path = \"dataset/erode/Category_II/\"\n",
    "\n",
    "for filename in os.scandir(path):\n",
    "    plate = cv2.imread(filename.path)\n",
    "    plate = cv2.cvtColor(plate, cv2.COLOR_BGR2GRAY)\n",
    "    plate[plate >= 125] = 255\n",
    "    plate[plate < 125] = 0\n",
    "    erosion = min(erosion, np.count_nonzero(plate)/(plate.shape[0]* plate.shape[1]))\n",
    "\n",
    "erosion"
   ]
  },
  {
   "cell_type": "code",
   "execution_count": 6,
   "metadata": {},
   "outputs": [
    {
     "name": "stdout",
     "output_type": "stream",
     "text": [
      "plate1.jpg: 0.35294117647058826\n",
      "plate10.jpg: 0.2482672731210743\n",
      "plate11.jpg: 0.42937072926835074\n",
      "plate12.jpg: 0.2563329646017699\n",
      "plate13.jpg: 0.337101585806249\n",
      "plate15.jpg: 0.74875\n",
      "plate16.jpg: 0.2865853658536585\n",
      "plate18.jpg: 0.20188492063492064\n",
      "plate19.jpg: 0.3294736842105263\n",
      "plate2.jpg: 0.2604255319148936\n",
      "plate20.jpg: 0.25782092772384035\n",
      "plate21.jpg: 0.3452168746286393\n",
      "plate22.jpg: 0.29827235772357724\n",
      "plate23.jpg: 0.24206349206349206\n",
      "plate24.jpg: 0.33484848484848484\n",
      "plate25.jpg: 0.24134199134199133\n",
      "plate26.jpg: 0.2631196218640165\n",
      "plate27.jpg: 0.29084321475625824\n",
      "plate28.jpg: 0.3678832116788321\n",
      "plate29.jpg: 0.2454510259388308\n",
      "plate3.jpg: 0.3806779661016949\n",
      "plate30.jpg: 0.25869304556354916\n",
      "plate31.jpg: 0.36283185840707965\n",
      "plate32.jpg: 0.3105022831050228\n",
      "plate4.jpg: 0.2712842712842713\n",
      "plate5.jpg: 0.3014950166112957\n",
      "plate6.jpg: 0.2436613665663945\n",
      "plate7.jpg: 0.2811868686868687\n",
      "plate8.jpg: 0.2336229946524064\n",
      "plate9.jpg: 0.22963870177587262\n",
      "plate1.jpg: 0.28550392670157065\n",
      "plate10.jpg: 0.294054747647562\n",
      "plate11.jpg: 0.3288303693570451\n",
      "plate12.jpg: 0.2792207792207792\n",
      "plate13.jpg: 0.30227272727272725\n",
      "plate15.jpg: 0.26098683166745995\n",
      "plate16.jpg: 0.31017964071856285\n",
      "plate17.jpg: 0.2525879917184265\n",
      "plate18.jpg: 0.3125\n",
      "plate19.jpg: 0.31094771241830066\n",
      "plate2.jpg: 0.22925373134328358\n",
      "plate20.jpg: 0.2510088781275222\n",
      "plate21.jpg: 0.20135593220338982\n",
      "plate22.jpg: 0.3246422893481717\n",
      "plate23.jpg: 0.23671497584541062\n",
      "plate24.jpg: 0.9278413321600216\n",
      "plate25.jpg: 0.2203469292076887\n",
      "plate26.jpg: 0.32083696599825634\n",
      "plate27.jpg: 0.24455205811138014\n",
      "plate28.jpg: 0.30123939986953685\n",
      "plate3.jpg: 0.26824238578680204\n",
      "plate4.jpg: 0.2615418118466899\n",
      "plate5.jpg: 0.2569786535303777\n",
      "plate6.jpg: 0.2593646277856804\n",
      "plate7.jpg: 0.2832098765432099\n",
      "plate8.jpg: 0.34946236559139787\n",
      "plate9.jpg: 0.3178451178451178\n"
     ]
    }
   ],
   "source": [
    "path = \"dataset/binPlates/Category_I/\"\n",
    "\n",
    "for filename in os.scandir(path):\n",
    "    plate = cv2.imread(filename.path)\n",
    "    plate = cv2.cvtColor(plate, cv2.COLOR_BGR2GRAY)\n",
    "    plate[plate >= 125] = 255\n",
    "    plate[plate < 125] = 0\n",
    "    ratio = np.count_nonzero(plate)/(plate.shape[1]*plate.shape[0])\n",
    "    print(filename.name + ': ' + str(ratio))\n",
    "\n",
    "path = \"dataset/binPlates/Category_II/\"\n",
    "\n",
    "for filename in os.scandir(path):\n",
    "    plate = cv2.imread(filename.path)\n",
    "    plate = cv2.cvtColor(plate, cv2.COLOR_BGR2GRAY)\n",
    "    plate[plate >= 125] = 255\n",
    "    plate[plate < 125] = 0\n",
    "    ratio = np.count_nonzero(plate)/(plate.shape[1]*plate.shape[0])\n",
    "    print(filename.name + ': ' + str(ratio))    "
   ]
  }
 ],
 "metadata": {
  "kernelspec": {
   "display_name": "Python 3",
   "language": "python",
   "name": "python3"
  },
  "language_info": {
   "codemirror_mode": {
    "name": "ipython",
    "version": 3
   },
   "file_extension": ".py",
   "mimetype": "text/x-python",
   "name": "python",
   "nbconvert_exporter": "python",
   "pygments_lexer": "ipython3",
   "version": "3.10.11"
  }
 },
 "nbformat": 4,
 "nbformat_minor": 2
}
