{
 "cells": [
  {
   "cell_type": "code",
   "execution_count": 2,
   "metadata": {},
   "outputs": [],
   "source": [
    "import numpy as np\n",
    "import pandas as pd\n",
    "import matplotlib.pyplot as plt\n",
    "import pickle\n",
    "import cv2\n",
    "\n",
    "import os\n",
    "\n",
    "from obtain_thresholds import read_img_data_from_disk, k_fold_cross_validation\n",
    "from Localization import plate_detection"
   ]
  },
  {
   "cell_type": "code",
   "execution_count": 2,
   "metadata": {},
   "outputs": [],
   "source": [
    "X = read_img_data_from_disk('./dataset/ColourVariations')\n",
    "\n",
    "randomise = np.arange(X.shape[0])\n",
    "X = X[randomise]"
   ]
  },
  {
   "cell_type": "code",
   "execution_count": null,
   "metadata": {},
   "outputs": [],
   "source": [
    "X.shape"
   ]
  },
  {
   "cell_type": "code",
   "execution_count": null,
   "metadata": {},
   "outputs": [],
   "source": [
    "k_fold_cross_validation(X, 5, 3)"
   ]
  },
  {
   "cell_type": "code",
   "execution_count": null,
   "metadata": {},
   "outputs": [],
   "source": [
    "df = pd.read_csv('./dataset/bounding_boxes.csv')"
   ]
  },
  {
   "cell_type": "code",
   "execution_count": null,
   "metadata": {},
   "outputs": [],
   "source": [
    "category_1 = df.iloc[:32]\n",
    "path = './dataset/Frames/Category_I/'\n",
    "avg_intersection_over_union_i = 0\n",
    "\n",
    "for i in range(32):\n",
    "    row = category_1.iloc[i]\n",
    "    bounding_box = BoundingBox(row['Left'], row['Top'], row['Right'], row['Bottom'])\n",
    "\n",
    "    frame = cv2.imread(path + row['Image'])\n",
    "    plates = plate_detection(frame)\n",
    "\n",
    "    if len(plates[1]):\n",
    "        avg_intersection_over_union_i += (bounding_box.intersection_over_union(plates[1][0]))\n",
    "print(f'Detected correctly Category I: {avg_intersection_over_union_i / 32}')"
   ]
  },
  {
   "cell_type": "code",
   "execution_count": null,
   "metadata": {},
   "outputs": [],
   "source": [
    "category_2 = df.iloc[32:60]\n",
    "path = './dataset/Frames/Category_II/'\n",
    "avg_intersection_over_union_ii = 0\n",
    "\n",
    "for i in range(28):\n",
    "    row = category_2.iloc[i]\n",
    "    bounding_box = BoundingBox(row['Left'], row['Top'], row['Right'], row['Bottom'])\n",
    "\n",
    "    frame = cv2.imread(path + row['Image'])\n",
    "    plates = plate_detection(frame)\n",
    "\n",
    "    if len(plates[1]):\n",
    "        avg_intersection_over_union_ii += (bounding_box.intersection_over_union(plates[1][0]))\n",
    "print(f'Detected correctly Category II: {avg_intersection_over_union_ii / 28}')"
   ]
  },
  {
   "cell_type": "code",
   "execution_count": null,
   "metadata": {},
   "outputs": [],
   "source": [
    "category_3 = df.iloc[60:]\n",
    "path = './dataset/Frames/Category_III/'\n",
    "avg_intersection_over_union_iii = 0\n",
    "\n",
    "for i in range(0, 10, 2):\n",
    "    row_1 = category_3.iloc[i]\n",
    "    row_2 = category_3.iloc[i+1]\n",
    "\n",
    "    bounding_box_1 = BoundingBox(row_1['Left'], row_1['Top'], row_1['Right'], row_1['Bottom'])\n",
    "    bounding_box_2 = BoundingBox(row_2['Left'], row_2['Top'], row_2['Right'], row_2['Bottom'])\n",
    "\n",
    "    frame = cv2.imread(path + row_1['Image'])\n",
    "    plates = plate_detection(frame)\n",
    "\n",
    "    if len(plates[1]) == 1:\n",
    "        b1 = bounding_box_1.intersection_over_union(plates[1][0])\n",
    "        b2 = bounding_box_2.intersection_over_union(plates[1][0])\n",
    "\n",
    "        if b1 < b2:\n",
    "            b1 = b2\n",
    "\n",
    "        avg_intersection_over_union_iii += b1\n",
    "    elif len(plates[1]) == 2:\n",
    "        b1 = bounding_box_1.intersection_over_union(plates[1][0])\n",
    "        b2 = bounding_box_2.intersection_over_union(plates[1][0])\n",
    "        b3 = bounding_box_1.intersection_over_union(plates[1][1])\n",
    "        b4 = bounding_box_2.intersection_over_union(plates[1][1])\n",
    "\n",
    "        op1 = b1\n",
    "        op2 = b2\n",
    "\n",
    "        if b3 > op1:\n",
    "            op1 = b3\n",
    "\n",
    "        if b4 > op2:\n",
    "            op2 = b4\n",
    "\n",
    "        avg_intersection_over_union_iii += op2 + op1\n",
    "print(f'Detected correctly Category III: {avg_intersection_over_union_iii / 10}')"
   ]
  },
  {
   "cell_type": "code",
   "execution_count": 37,
   "metadata": {},
   "outputs": [],
   "source": [
    "from pre_processing_data import process_raw_data_for_characters, put_margin, reshape_img\n",
    "from character_recognition import calculate_perimeter_area_vector, recognise_character, give_label_lowest_score\n",
    "from Recognize import segment\n",
    "from kd_tree import KDTree, HeapEntry"
   ]
  },
  {
   "cell_type": "code",
   "execution_count": 35,
   "metadata": {},
   "outputs": [],
   "source": [
    "directory_path = './dataset/CharactersDataset/TrainingSet/'\n",
    "\n",
    "dataset = []\n",
    "\n",
    "folders = [folder for folder in os.listdir(directory_path) if os.path.isdir(os.path.join(directory_path, folder))]\n",
    "\n",
    "for folder in folders:\n",
    "  folder_path = directory_path + '/' + folder\n",
    "  files = [file for file in os.listdir(folder_path) if os.path.isfile(os.path.join(folder_path, file))]\n",
    "\n",
    "  for file_name in files:\n",
    "    img = 255 - cv2.imread(folder_path + '/' + file_name, cv2.IMREAD_GRAYSCALE)\n",
    "    reshaped_img = reshape_img(img)\n",
    "\n",
    "    p = calculate_perimeter_area_vector(reshaped_img)\n",
    "\n",
    "    dataset.append(HeapEntry(0, p, reshaped_img, folder[0]))\n",
    "# train_data = process_raw_data_for_characters('./dataset/CharactersDataset/TrainingSet')\n",
    "# test_data = process_raw_data_for_characters('./dataset/CharactersDataset/TestSet')"
   ]
  },
  {
   "cell_type": "code",
   "execution_count": 7,
   "metadata": {},
   "outputs": [],
   "source": [
    "kdtree = KDTree()\n",
    "for entry in train_data:\n",
    "    kdtree.insert_point(entry[1], entry[2], entry[0])"
   ]
  },
  {
   "cell_type": "code",
   "execution_count": 8,
   "metadata": {},
   "outputs": [
    {
     "data": {
      "text/plain": [
       "'1'"
      ]
     },
     "execution_count": 8,
     "metadata": {},
     "output_type": "execute_result"
    }
   ],
   "source": [
    "recognise_character(kdtree, test_data[40][2], 20)"
   ]
  },
  {
   "cell_type": "code",
   "execution_count": 9,
   "metadata": {},
   "outputs": [
    {
     "data": {
      "text/plain": [
       "('1',\n",
       " array([71.65685415, 65.        ]),\n",
       " array([[0., 0., 0., ..., 0., 0., 0.],\n",
       "        [0., 0., 0., ..., 0., 0., 0.],\n",
       "        [0., 0., 0., ..., 0., 0., 0.],\n",
       "        ...,\n",
       "        [0., 0., 0., ..., 0., 0., 0.],\n",
       "        [0., 0., 0., ..., 0., 0., 0.],\n",
       "        [0., 0., 0., ..., 0., 0., 0.]]))"
      ]
     },
     "execution_count": 9,
     "metadata": {},
     "output_type": "execute_result"
    }
   ],
   "source": [
    "test_data[40]"
   ]
  },
  {
   "cell_type": "code",
   "execution_count": 10,
   "metadata": {},
   "outputs": [],
   "source": [
    "with open('./hyperparameters/kdtree.pickle', 'wb') as handle:\n",
    "    pickle.dump(kdtree, handle, protocol=pickle.HIGHEST_PROTOCOL)"
   ]
  },
  {
   "cell_type": "code",
   "execution_count": 23,
   "metadata": {},
   "outputs": [],
   "source": [
    "with open('./hyperparameters/kdtree.pickle', 'rb') as handle:\n",
    "    kdtree = pickle.load(handle)"
   ]
  },
  {
   "cell_type": "code",
   "execution_count": 31,
   "metadata": {},
   "outputs": [],
   "source": [
    "frame = cv2.imread('./dataset/binPlates/Category_I/plate5.jpg')\n",
    "frame = cv2.cvtColor(frame, cv2.COLOR_BGR2GRAY)\n",
    "frame[frame >= 125] = 255\n",
    "frame[frame < 125] = 0\n",
    "\n",
    "segments = segment(frame, binary=True)"
   ]
  },
  {
   "cell_type": "code",
   "execution_count": 40,
   "metadata": {},
   "outputs": [
    {
     "data": {
      "image/png": "[encoded data removed]",
      "text/plain": [
       "<Figure size 640x480 with 1 Axes>"
      ]
     },
     "metadata": {},
     "output_type": "display_data"
    },
    {
     "name": "stdout",
     "output_type": "stream",
     "text": [
      "9\n"
     ]
    },
    {
     "data": {
      "image/png": "[encoded data removed]",
      "text/plain": [
       "<Figure size 640x480 with 1 Axes>"
      ]
     },
     "metadata": {},
     "output_type": "display_data"
    },
    {
     "name": "stdout",
     "output_type": "stream",
     "text": [
      "9\n"
     ]
    },
    {
     "data": {
      "image/png": "[encoded data removed]",
      "text/plain": [
       "<Figure size 640x480 with 1 Axes>"
      ]
     },
     "metadata": {},
     "output_type": "display_data"
    },
    {
     "name": "stdout",
     "output_type": "stream",
     "text": [
      "S\n"
     ]
    },
    {
     "data": {
      "image/png": "[encoded data removed]",
      "text/plain": [
       "<Figure size 640x480 with 1 Axes>"
      ]
     },
     "metadata": {},
     "output_type": "display_data"
    },
    {
     "name": "stdout",
     "output_type": "stream",
     "text": [
      "Z\n"
     ]
    },
    {
     "data": {
      "image/png": "[encoded data removed]",
      "text/plain": [
       "<Figure size 640x480 with 1 Axes>"
      ]
     },
     "metadata": {},
     "output_type": "display_data"
    },
    {
     "name": "stdout",
     "output_type": "stream",
     "text": [
      "C\n"
     ]
    },
    {
     "data": {
      "image/png": "[encoded data removed]",
      "text/plain": [
       "<Figure size 640x480 with 1 Axes>"
      ]
     },
     "metadata": {},
     "output_type": "display_data"
    },
    {
     "name": "stdout",
     "output_type": "stream",
     "text": [
      "5\n"
     ]
    }
   ],
   "source": [
    "for s in segments:\n",
    "    resized_img = cv2.resize(s, (30, 45), interpolation = cv2.INTER_LINEAR)\n",
    "    margined_img = put_margin(resized_img, 0, 0, 29, 44)\n",
    "    margined_img[margined_img >= 125] = 255\n",
    "    margined_img[margined_img < 125] = 0\n",
    "\n",
    "    plt.imshow(margined_img)\n",
    "    plt.show()\n",
    "\n",
    "    give_label_lowest_score(margined_img, dataset)"
   ]
  },
  {
   "cell_type": "code",
   "execution_count": 33,
   "metadata": {},
   "outputs": [
    {
     "data": {
      "text/plain": [
       "<matplotlib.image.AxesImage at 0x1f4bdef0610>"
      ]
     },
     "execution_count": 33,
     "metadata": {},
     "output_type": "execute_result"
    },
    {
     "data": {
      "image/png": "[encoded data removed]",
      "text/plain": [
       "<Figure size 640x480 with 1 Axes>"
      ]
     },
     "metadata": {},
     "output_type": "display_data"
    }
   ],
   "source": [
    "plt.imshow(margined_img)"
   ]
  }
 ],
 "metadata": {
  "kernelspec": {
   "display_name": "Python 3",
   "language": "python",
   "name": "python3"
  },
  "language_info": {
   "codemirror_mode": {
    "name": "ipython",
    "version": 3
   },
   "file_extension": ".py",
   "mimetype": "text/x-python",
   "name": "python",
   "nbconvert_exporter": "python",
   "pygments_lexer": "ipython3",
   "version": "3.10.11"
  }
 },
 "nbformat": 4,
 "nbformat_minor": 2
}
